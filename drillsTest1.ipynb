{
  "nbformat": 4,
  "nbformat_minor": 0,
  "metadata": {
    "colab": {
      "name": "drillsTest1.ipynb",
      "provenance": [],
      "collapsed_sections": [],
      "include_colab_link": true
    },
    "kernelspec": {
      "name": "python3",
      "display_name": "Python 3"
    },
    "accelerator": "GPU"
  },
  "cells": [
    {
      "cell_type": "markdown",
      "metadata": {
        "id": "view-in-github",
        "colab_type": "text"
      },
      "source": [
        "<a href=\"https://colab.research.google.com/github/irawan09/Deep_Learning_class/blob/main/drillsTest1.ipynb\" target=\"_parent\"><img src=\"https://colab.research.google.com/assets/colab-badge.svg\" alt=\"Open In Colab\"/></a>"
      ]
    },
    {
      "cell_type": "code",
      "metadata": {
        "id": "T8NeplsuArE4",
        "colab": {
          "base_uri": "https://localhost:8080/",
          "height": 54
        },
        "outputId": "b9ce2083-a446-4d93-ce5e-74c3b759901e"
      },
      "source": [
        "from google.colab import drive\n",
        "drive.mount('/content/gdrive')\n"
      ],
      "execution_count": null,
      "outputs": [
        {
          "output_type": "stream",
          "text": [
            "Drive already mounted at /content/gdrive; to attempt to forcibly remount, call drive.mount(\"/content/gdrive\", force_remount=True).\n"
          ],
          "name": "stdout"
        }
      ]
    },
    {
      "cell_type": "code",
      "metadata": {
        "id": "eLcqIZ2vBzFM",
        "colab": {
          "base_uri": "https://localhost:8080/",
          "height": 34
        },
        "outputId": "beb8d8dd-94f9-4991-a491-3d29cd000308"
      },
      "source": [
        "!ls '/content/gdrive/My Drive/Colab Notebooks/images3'\n",
        "train_path = '/content/gdrive/My Drive/Colab Notebooks/images3/1_27.11.2017/'\n",
        "test_path = '/content/gdrive/My Drive/Colab Notebooks/images3/2_12.04.2019/'"
      ],
      "execution_count": null,
      "outputs": [
        {
          "output_type": "stream",
          "text": [
            "1_27.11.2017  2_12.04.2019  3_21.05.2019  4_31.05.2019\t5_04.06.2019\n"
          ],
          "name": "stdout"
        }
      ]
    },
    {
      "cell_type": "code",
      "metadata": {
        "id": "gBYugPpvCP_-",
        "colab": {
          "base_uri": "https://localhost:8080/",
          "height": 68
        },
        "outputId": "757afac0-ef76-4369-a0e7-81ea665c31e6"
      },
      "source": [
        "from keras_preprocessing.image import ImageDataGenerator\n",
        "\n",
        "img_size=64\n",
        "batchsize=32\n",
        "\n",
        "train_datagen = ImageDataGenerator(\n",
        "    rescale=1. / 255,\n",
        "    #rotation_range=40,\n",
        "    #width_shift_range=0.2,\n",
        "    #height_shift_range=0.2,\n",
        "    #shear_range=0.2,\n",
        "    #zoom_range=0.2,\n",
        "    #horizontal_flip=True,\n",
        "    #vertical_flip=True,\n",
        "    #fill_mode='nearest',\n",
        "    validation_split=0.1\n",
        ") \n",
        "\n",
        "test_datagen = ImageDataGenerator(\n",
        "    rescale=1. / 255, \n",
        ") \n",
        "\n",
        "train = train_datagen.flow_from_directory(\n",
        "    train_path,\n",
        "    target_size=(img_size, img_size),\n",
        "    batch_size=batchsize,\n",
        "    class_mode='categorical',\n",
        "    shuffle=True,\n",
        "    subset='training') # set as training data\n",
        "\n",
        "valid = train_datagen.flow_from_directory(\n",
        "    train_path, # same directory as training data\n",
        "    target_size=(img_size, img_size),\n",
        "    batch_size=batchsize,\n",
        "    class_mode='categorical',\n",
        "    shuffle=True,\n",
        "    subset='validation') # set as validation data\n",
        "\n",
        "test = test_datagen.flow_from_directory(\n",
        "    test_path,\n",
        "    target_size=(img_size, img_size),\n",
        "    batch_size=batchsize,\n",
        "    shuffle=True,\n",
        "    class_mode='categorical')"
      ],
      "execution_count": null,
      "outputs": [
        {
          "output_type": "stream",
          "text": [
            "Found 1500 images belonging to 3 classes.\n",
            "Found 166 images belonging to 3 classes.\n",
            "Found 1820 images belonging to 3 classes.\n"
          ],
          "name": "stdout"
        }
      ]
    },
    {
      "cell_type": "code",
      "metadata": {
        "id": "qHxOL28VEsw2",
        "colab": {
          "base_uri": "https://localhost:8080/",
          "height": 306
        },
        "outputId": "265b892b-735b-4255-f9fe-79950453348b"
      },
      "source": [
        "import tensorflow.keras as keras\n",
        "\n",
        "model = keras.models.Sequential()\n",
        "\n",
        "sparse_model = keras.models.Sequential([\n",
        "  keras.layers.Conv2D(16, kernel_size=(3, 3), activation='relu', input_shape=(img_size, img_size, 3)),\n",
        "  keras.layers.MaxPool2D(pool_size=(2, 2)),\n",
        "  #keras.layers.Dropout(0.1),\n",
        "  keras.layers.Conv2D(16, kernel_size=(3, 3), activation='relu'),\n",
        "  keras.layers.MaxPool2D(pool_size=(2, 2)),\n",
        "  #keras.layers.Dropout(0.1),\n",
        "  ])\n",
        "\n",
        "model.add(sparse_model)\n",
        "\n",
        "model.add(keras.layers.Flatten())\n",
        "model.add(keras.layers.Dense(64, activation='relu'))\n",
        "#model.add(keras.layers.Dropout(0.1))\n",
        "model.add(keras.layers.Dense(3, activation='softmax'))\n",
        "\n",
        "print(model.summary())"
      ],
      "execution_count": null,
      "outputs": [
        {
          "output_type": "stream",
          "text": [
            "Model: \"sequential_4\"\n",
            "_________________________________________________________________\n",
            "Layer (type)                 Output Shape              Param #   \n",
            "=================================================================\n",
            "sequential_5 (Sequential)    (None, 14, 14, 16)        2768      \n",
            "_________________________________________________________________\n",
            "flatten_2 (Flatten)          (None, 3136)              0         \n",
            "_________________________________________________________________\n",
            "dense_4 (Dense)              (None, 64)                200768    \n",
            "_________________________________________________________________\n",
            "dense_5 (Dense)              (None, 3)                 195       \n",
            "=================================================================\n",
            "Total params: 203,731\n",
            "Trainable params: 203,731\n",
            "Non-trainable params: 0\n",
            "_________________________________________________________________\n",
            "None\n"
          ],
          "name": "stdout"
        }
      ]
    },
    {
      "cell_type": "code",
      "metadata": {
        "id": "ROm7UwrJF1uX"
      },
      "source": [
        "from tensorflow.keras.callbacks import ModelCheckpoint, EarlyStopping\n",
        "\n",
        "model_filename='drillsmodel.hdf5'\n",
        "callbacks1 = [\n",
        "        EarlyStopping(\n",
        "            monitor='val_accuracy',\n",
        "            patience=5,\n",
        "            # min_delta=1,\n",
        "            mode='max',\n",
        "            verbose=1),\n",
        "\n",
        "        ModelCheckpoint(\n",
        "            filepath=model_filename,\n",
        "            monitor='val_accuracy', mode='max',  # mode must be set to max or Keras will be confused\n",
        "            save_best_only=True,\n",
        "            verbose=1)\n",
        "    ]\n",
        "\n",
        "model.compile(optimizer='adam', loss='categorical_crossentropy', metrics=['accuracy'])\n",
        "#history = model.fit_generator(generator=train,steps_per_epoch=46,validation_steps=5,shuffle=True, epochs=500, validation_data=valid, verbose=1,callbacks=callbacks1)"
      ],
      "execution_count": null,
      "outputs": []
    },
    {
      "cell_type": "code",
      "metadata": {
        "id": "eejOr5-VSaGn",
        "colab": {
          "base_uri": "https://localhost:8080/",
          "height": 306
        },
        "outputId": "5f427d6b-18e2-4c60-9080-75db6dc1da22"
      },
      "source": [
        "from tensorflow.keras.models import load_model\n",
        "\n",
        "model = load_model(model_filename)\n",
        "\n",
        "print(model.summary())"
      ],
      "execution_count": null,
      "outputs": [
        {
          "output_type": "stream",
          "text": [
            "Model: \"sequential\"\n",
            "_________________________________________________________________\n",
            "Layer (type)                 Output Shape              Param #   \n",
            "=================================================================\n",
            "sequential_1 (Sequential)    (None, 14, 14, 16)        2768      \n",
            "_________________________________________________________________\n",
            "flatten (Flatten)            (None, 3136)              0         \n",
            "_________________________________________________________________\n",
            "dense (Dense)                (None, 64)                200768    \n",
            "_________________________________________________________________\n",
            "dense_1 (Dense)              (None, 3)                 195       \n",
            "=================================================================\n",
            "Total params: 203,731\n",
            "Trainable params: 203,731\n",
            "Non-trainable params: 0\n",
            "_________________________________________________________________\n",
            "None\n"
          ],
          "name": "stdout"
        }
      ]
    },
    {
      "cell_type": "code",
      "metadata": {
        "id": "_WawNzelS0iv",
        "colab": {
          "base_uri": "https://localhost:8080/",
          "height": 34
        },
        "outputId": "43c35e06-c9ab-4b87-b4e6-4bf9e5404fb3"
      },
      "source": [
        "#test_loss = model.evaluate(test)\n",
        "#predictions = model.predict(test)  # Vector of probabilities\n",
        "#loss, acc = model.evaluate_generator(test,steps=math.ceil(test.samples / batch_size),verbose=1,)\n",
        "y_pred = model.predict_generator(test,steps=math.ceil(test.samples / batch_size),verbose=1)\n",
        "\n",
        "\n"
      ],
      "execution_count": null,
      "outputs": [
        {
          "output_type": "stream",
          "text": [
            "57/57 [==============================] - 22s 381ms/step\n"
          ],
          "name": "stdout"
        }
      ]
    },
    {
      "cell_type": "code",
      "metadata": {
        "id": "zk-Z9BCYX7sm",
        "colab": {
          "base_uri": "https://localhost:8080/",
          "height": 723
        },
        "outputId": "efe435cb-15a0-4473-8431-3068089e5095"
      },
      "source": [
        "import numpy as np\n",
        "from sklearn.metrics import accuracy_score\n",
        "from sklearn.metrics import classification_report, confusion_matrix\n",
        "import matplotlib.pyplot as plt\n",
        "import seaborn as sn;\n",
        "\n",
        "\n",
        "print(y_pred[:10])\n",
        "pred_labels = np.argmax(y_pred, axis=1)  # We take the highest probability\n",
        "print(pred_labels[:10])\n",
        "\n",
        "y_test = test.classes\n",
        "print(y_test[:10])\n",
        "\n",
        "acc = accuracy_score(y_test, pred_labels)\n",
        "print(acc)\n",
        "\n",
        "# classification report\n",
        "target_names=['Green', 'Yellow', 'Red']\n",
        "report = classification_report(y_test, pred_labels, target_names=target_names,digits=4)\n",
        "print(report)\n",
        "\n",
        "with open('classificationreport.txt', 'w') as f:\n",
        "  f.write(report)\n",
        "\n",
        "# confusion matrix\n",
        "CM = confusion_matrix(y_test, pred_labels)\n",
        "print(CM)\n",
        "\n",
        "ax = plt.axes()\n",
        "sn.heatmap(CM, annot=True,\n",
        "           annot_kws={\"size\": 10},\n",
        "           xticklabels=target_names,\n",
        "           yticklabels=target_names, ax=ax)\n",
        "ax.set_title('Confusion matrix')\n",
        "fig = plt.gcf()\n",
        "plt.show()\n",
        "fig.savefig('confusionmatrix.png')\n"
      ],
      "execution_count": null,
      "outputs": [
        {
          "output_type": "stream",
          "text": [
            "[[0.08745717 0.64734185 0.26520097]\n",
            " [0.91200167 0.01170967 0.07628865]\n",
            " [0.07607332 0.5917448  0.33218187]\n",
            " [0.01772474 0.6992717  0.28300357]\n",
            " [0.99006957 0.00158369 0.00834671]\n",
            " [0.7799274  0.05162963 0.168443  ]\n",
            " [0.9909176  0.00157441 0.00750805]\n",
            " [0.9930549  0.00131485 0.0056302 ]\n",
            " [0.96755177 0.0123727  0.02007564]\n",
            " [0.55760986 0.18960191 0.25278825]]\n",
            "[1 0 1 1 0 0 0 0 0 0]\n",
            "[0 0 0 0 0 0 0 0 0 0]\n",
            "0.36153846153846153\n",
            "              precision    recall  f1-score   support\n",
            "\n",
            "       Green     0.4656    0.4988    0.4816       840\n",
            "      Yellow     0.1734    0.3536    0.2327       280\n",
            "         Red     0.4011    0.2000    0.2669       700\n",
            "\n",
            "    accuracy                         0.3615      1820\n",
            "   macro avg     0.3467    0.3508    0.3271      1820\n",
            "weighted avg     0.3958    0.3615    0.3607      1820\n",
            "\n",
            "[[419 259 162]\n",
            " [134  99  47]\n",
            " [347 213 140]]\n"
          ],
          "name": "stdout"
        },
        {
          "output_type": "display_data",
          "data": {
            "image/png": "[encoded data removed]",
            "text/plain": [
              "<Figure size 432x288 with 2 Axes>"
            ]
          },
          "metadata": {
            "tags": [],
            "needs_background": "light"
          }
        }
      ]
    }
  ]
}